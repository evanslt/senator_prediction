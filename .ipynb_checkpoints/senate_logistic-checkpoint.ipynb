{
 "cells": [
  {
   "cell_type": "code",
   "execution_count": 1,
   "metadata": {
    "collapsed": true
   },
   "outputs": [],
   "source": [
    "import pandas as pd\n",
    "import numpy as np\n",
    "from sklearn.linear_model import LogisticRegression\n",
    "from sklearn.linear_model import LinearRegression"
   ]
  },
  {
   "cell_type": "code",
   "execution_count": 5,
   "metadata": {},
   "outputs": [],
   "source": [
    "elections = pd.read_csv('election_history.csv')"
   ]
  },
  {
   "cell_type": "code",
   "execution_count": 40,
   "metadata": {},
   "outputs": [
    {
     "data": {
      "text/html": [
       "<div>\n",
       "<table border=\"1\" class=\"dataframe\">\n",
       "  <thead>\n",
       "    <tr style=\"text-align: right;\">\n",
       "      <th></th>\n",
       "      <th>Year</th>\n",
       "      <th>State</th>\n",
       "      <th>Incumbent Running</th>\n",
       "      <th>Currently held by democrat</th>\n",
       "      <th>President Democrat</th>\n",
       "      <th>Concurrent presidential race</th>\n",
       "      <th>Incumbent president running</th>\n",
       "      <th>Senate controlled by Democrats</th>\n",
       "      <th>House controlled by democrats</th>\n",
       "      <th>Democrat Winner</th>\n",
       "      <th>Democrat Margin</th>\n",
       "    </tr>\n",
       "  </thead>\n",
       "  <tbody>\n",
       "    <tr>\n",
       "      <th>0</th>\n",
       "      <td>2016</td>\n",
       "      <td>Alabama</td>\n",
       "      <td>1</td>\n",
       "      <td>0</td>\n",
       "      <td>1</td>\n",
       "      <td>1</td>\n",
       "      <td>0</td>\n",
       "      <td>0</td>\n",
       "      <td>0</td>\n",
       "      <td>0</td>\n",
       "      <td>-28.4</td>\n",
       "    </tr>\n",
       "    <tr>\n",
       "      <th>1</th>\n",
       "      <td>2016</td>\n",
       "      <td>Alaska</td>\n",
       "      <td>1</td>\n",
       "      <td>0</td>\n",
       "      <td>1</td>\n",
       "      <td>1</td>\n",
       "      <td>0</td>\n",
       "      <td>0</td>\n",
       "      <td>0</td>\n",
       "      <td>0</td>\n",
       "      <td>-32.0</td>\n",
       "    </tr>\n",
       "    <tr>\n",
       "      <th>2</th>\n",
       "      <td>2016</td>\n",
       "      <td>Arizona</td>\n",
       "      <td>1</td>\n",
       "      <td>0</td>\n",
       "      <td>1</td>\n",
       "      <td>1</td>\n",
       "      <td>0</td>\n",
       "      <td>0</td>\n",
       "      <td>0</td>\n",
       "      <td>0</td>\n",
       "      <td>-12.0</td>\n",
       "    </tr>\n",
       "    <tr>\n",
       "      <th>3</th>\n",
       "      <td>2016</td>\n",
       "      <td>Arkansas</td>\n",
       "      <td>1</td>\n",
       "      <td>0</td>\n",
       "      <td>1</td>\n",
       "      <td>1</td>\n",
       "      <td>0</td>\n",
       "      <td>0</td>\n",
       "      <td>0</td>\n",
       "      <td>0</td>\n",
       "      <td>-23.4</td>\n",
       "    </tr>\n",
       "    <tr>\n",
       "      <th>4</th>\n",
       "      <td>2016</td>\n",
       "      <td>Colorado</td>\n",
       "      <td>1</td>\n",
       "      <td>1</td>\n",
       "      <td>1</td>\n",
       "      <td>1</td>\n",
       "      <td>0</td>\n",
       "      <td>0</td>\n",
       "      <td>0</td>\n",
       "      <td>1</td>\n",
       "      <td>5.7</td>\n",
       "    </tr>\n",
       "  </tbody>\n",
       "</table>\n",
       "</div>"
      ],
      "text/plain": [
       "   Year     State  Incumbent Running  Currently held by democrat  \\\n",
       "0  2016   Alabama                  1                           0   \n",
       "1  2016    Alaska                  1                           0   \n",
       "2  2016   Arizona                  1                           0   \n",
       "3  2016  Arkansas                  1                           0   \n",
       "4  2016  Colorado                  1                           1   \n",
       "\n",
       "   President Democrat  Concurrent presidential race  \\\n",
       "0                   1                             1   \n",
       "1                   1                             1   \n",
       "2                   1                             1   \n",
       "3                   1                             1   \n",
       "4                   1                             1   \n",
       "\n",
       "   Incumbent president running  Senate controlled by Democrats  \\\n",
       "0                            0                               0   \n",
       "1                            0                               0   \n",
       "2                            0                               0   \n",
       "3                            0                               0   \n",
       "4                            0                               0   \n",
       "\n",
       "   House controlled by democrats  Democrat Winner  Democrat Margin  \n",
       "0                              0                0            -28.4  \n",
       "1                              0                0            -32.0  \n",
       "2                              0                0            -12.0  \n",
       "3                              0                0            -23.4  \n",
       "4                              0                1              5.7  "
      ]
     },
     "execution_count": 40,
     "metadata": {},
     "output_type": "execute_result"
    }
   ],
   "source": [
    "elections.head()"
   ]
  },
  {
   "cell_type": "code",
   "execution_count": 25,
   "metadata": {
    "collapsed": true,
    "scrolled": false
   },
   "outputs": [],
   "source": [
    "# compile training and test sets\n",
    "train_X = elections[elections.Year != 2016].iloc[:, 2:9]\n",
    "train_Y = elections[elections.Year != 2016].iloc[:, 9]\n",
    "test_X = elections[elections.Year == 2016].iloc[:, 2:9]\n",
    "test_Y = elections[elections.Year == 2016].iloc[:, 9]"
   ]
  },
  {
   "cell_type": "code",
   "execution_count": 26,
   "metadata": {},
   "outputs": [
    {
     "name": "stdout",
     "output_type": "stream",
     "text": [
      "Training score:  0.810606060606\n"
     ]
    }
   ],
   "source": [
    "# generate fit from training data\n",
    "lr = LogisticRegression()\n",
    "lr.fit(train_X, train_Y)\n",
    "print(\"Training score: \", lr.score(train_X, train_Y))"
   ]
  },
  {
   "cell_type": "code",
   "execution_count": 27,
   "metadata": {},
   "outputs": [
    {
     "name": "stdout",
     "output_type": "stream",
     "text": [
      "Test score:  0.939393939394\n"
     ]
    }
   ],
   "source": [
    "# test set\n",
    "print(\"Test score: \", lr.score(test_X, test_Y))"
   ]
  },
  {
   "cell_type": "code",
   "execution_count": 28,
   "metadata": {},
   "outputs": [
    {
     "name": "stdout",
     "output_type": "stream",
     "text": [
      "[ 0.47386973  2.77050669 -0.76267738  0.65704539  1.07722038 -0.76267738\n",
      " -0.24177754]\n"
     ]
    }
   ],
   "source": [
    "# we can compare parameter fits directly since the data is all binary\n",
    "print(lr.coef_[0])"
   ]
  },
  {
   "cell_type": "code",
   "execution_count": 39,
   "metadata": {},
   "outputs": [
    {
     "name": "stdout",
     "output_type": "stream",
     "text": [
      "0.795454545455\n",
      "0.939393939394\n"
     ]
    }
   ],
   "source": [
    "# second regressor is the dominant one\n",
    "print((train_X.iloc[:,1] == train_Y).mean())\n",
    "print((test_X.iloc[:,1] == test_Y).mean()) # second regressor is enough in the test set!"
   ]
  }
 ],
 "metadata": {
  "kernelspec": {
   "display_name": "Python [default]",
   "language": "python",
   "name": "python3"
  },
  "language_info": {
   "codemirror_mode": {
    "name": "ipython",
    "version": 3
   },
   "file_extension": ".py",
   "mimetype": "text/x-python",
   "name": "python",
   "nbconvert_exporter": "python",
   "pygments_lexer": "ipython3",
   "version": "3.5.3"
  }
 },
 "nbformat": 4,
 "nbformat_minor": 2
}
